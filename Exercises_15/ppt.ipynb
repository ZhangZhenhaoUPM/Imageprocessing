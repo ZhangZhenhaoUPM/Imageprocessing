{
 "cells": [
  {
   "cell_type": "code",
   "execution_count": null,
   "metadata": {},
   "outputs": [
    {
     "name": "stdout",
     "output_type": "stream",
     "text": [
      "Requirement already satisfied: python-pptx in d:\\anaconda\\envs\\opencv\\lib\\site-packages (1.0.2)\n",
      "Requirement already satisfied: Pillow>=3.3.2 in d:\\anaconda\\envs\\opencv\\lib\\site-packages (from python-pptx) (11.1.0)\n",
      "Requirement already satisfied: XlsxWriter>=0.5.7 in d:\\anaconda\\envs\\opencv\\lib\\site-packages (from python-pptx) (3.2.2)\n",
      "Requirement already satisfied: lxml>=3.1.0 in d:\\anaconda\\envs\\opencv\\lib\\site-packages (from python-pptx) (5.3.1)\n",
      "Requirement already satisfied: typing-extensions>=4.9.0 in d:\\anaconda\\envs\\opencv\\lib\\site-packages (from python-pptx) (4.12.2)\n"
     ]
    }
   ],
   "source": [
    "%pip install python-pptx"
   ]
  },
  {
   "cell_type": "code",
   "execution_count": 3,
   "metadata": {},
   "outputs": [
    {
     "data": {
      "text/plain": [
       "'BRISK_Short_Long_Pairs.pptx'"
      ]
     },
     "execution_count": 3,
     "metadata": {},
     "output_type": "execute_result"
    }
   ],
   "source": [
    "from pptx import Presentation\n",
    "from pptx.util import Inches\n",
    "\n",
    "# 创建PPT\n",
    "prs = Presentation()\n",
    "\n",
    "# 封面页\n",
    "slide_layout = prs.slide_layouts[0]\n",
    "slide = prs.slides.add_slide(slide_layout)\n",
    "title = slide.shapes.title\n",
    "subtitle = slide.placeholders[1]\n",
    "title.text = \"BRISK: Short and Long Distance Pairs\"\n",
    "subtitle.text = \"Understanding BRISK Feature Descriptor\\nby Zhang Zhenhao\"\n",
    "\n",
    "# 目录页\n",
    "slide_layout = prs.slide_layouts[1]\n",
    "slide = prs.slides.add_slide(slide_layout)\n",
    "title = slide.shapes.title\n",
    "title.text = \"Outline\"\n",
    "content = slide.placeholders[1]\n",
    "content.text = \"1. Introduction to BRISK\\n2. Short and Long Distance Pairs\\n3. Why Use Both?\\n4. Mathematical Formulation\\n5. Implementation in OpenCV\\n6. Summary\"\n",
    "\n",
    "# BRISK 简介\n",
    "slide_layout = prs.slide_layouts[1]\n",
    "slide = prs.slides.add_slide(slide_layout)\n",
    "title = slide.shapes.title\n",
    "title.text = \"Introduction to BRISK\"\n",
    "content = slide.placeholders[1]\n",
    "content.text = \"• BRISK (Binary Robust Invariant Scalable Keypoints) is a feature detection and description algorithm.\\n\"\n",
    "content.text += \"• It extracts keypoints from an image and represents them as binary descriptors.\\n\"\n",
    "content.text += \"• Used in real-time applications like SLAM and image matching.\"\n",
    "\n",
    "# 短距离像素对\n",
    "slide_layout = prs.slide_layouts[1]\n",
    "slide = prs.slides.add_slide(slide_layout)\n",
    "title = slide.shapes.title\n",
    "title.text = \"Short Distance Pairs\"\n",
    "content = slide.placeholders[1]\n",
    "content.text = \"• Short distance pairs are adjacent pixels around a keypoint.\\n\"\n",
    "content.text += \"• Used to compute the keypoint’s dominant orientation.\\n\"\n",
    "content.text += \"• This ensures rotation invariance.\\n\\n\"\n",
    "content.text += \"Formula:\\nθ = tan⁻¹ ( Σ w_i (y_i - y_c) / Σ w_i (x_i - x_c) )\"\n",
    "\n",
    "# 长距离像素对\n",
    "slide_layout = prs.slide_layouts[1]\n",
    "slide = prs.slides.add_slide(slide_layout)\n",
    "title = slide.shapes.title\n",
    "title.text = \"Long Distance Pairs\"\n",
    "content = slide.placeholders[1]\n",
    "content.text = \"• Long distance pairs are pixels farther apart on the sampling rings.\\n\"\n",
    "content.text += \"• Used to construct the binary descriptor.\\n\"\n",
    "content.text += \"• Comparison of pixel intensities generates a 512-bit descriptor.\\n\\n\"\n",
    "content.text += \"Descriptor calculation:\\n If I(p1) < I(p2), set bit = 1, else set bit = 0.\"\n",
    "\n",
    "# 为什么使用两种像素对\n",
    "slide_layout = prs.slide_layouts[1]\n",
    "slide = prs.slides.add_slide(slide_layout)\n",
    "title = slide.shapes.title\n",
    "title.text = \"Why Use Both?\"\n",
    "content = slide.placeholders[1]\n",
    "content.text = \"• Short Distance Pairs → Compute Orientation (Rotation Invariance)\\n\"\n",
    "content.text += \"• Long Distance Pairs → Generate Binary Descriptor (Feature Matching)\\n\"\n",
    "content.text += \"• Combination makes BRISK robust in feature detection and matching.\"\n",
    "\n",
    "# 数学公式\n",
    "slide_layout = prs.slide_layouts[1]\n",
    "slide = prs.slides.add_slide(slide_layout)\n",
    "title = slide.shapes.title\n",
    "title.text = \"Mathematical Formulation\"\n",
    "content = slide.placeholders[1]\n",
    "content.text = \"• Orientation Calculation:\\nθ = tan⁻¹ ( Σ w_i (y_i - y_c) / Σ w_i (x_i - x_c) )\\n\\n\"\n",
    "content.text += \"• Descriptor Calculation:\\nBinary vector based on pixel intensity comparison.\"\n",
    "\n",
    "# OpenCV 实现\n",
    "slide_layout = prs.slide_layouts[1]\n",
    "slide = prs.slides.add_slide(slide_layout)\n",
    "title = slide.shapes.title\n",
    "title.text = \"Implementation in OpenCV\"\n",
    "content = slide.placeholders[1]\n",
    "content.text = \"```python\\nimport cv2\\n\\nimage = cv2.imread('image.jpg', cv2.IMREAD_GRAYSCALE)\\nbrisk = cv2.BRISK_create()\\nkeypoints, descriptors = brisk.detectAndCompute(image, None)\\n```\"\n",
    "\n",
    "# 总结\n",
    "slide_layout = prs.slide_layouts[1]\n",
    "slide = prs.slides.add_slide(slide_layout)\n",
    "title = slide.shapes.title\n",
    "title.text = \"Summary\"\n",
    "content = slide.placeholders[1]\n",
    "content.text = \"• BRISK uses a combination of Short and Long Distance Pairs.\\n\"\n",
    "content.text += \"• Short Distance Pairs help in rotation invariance.\\n\"\n",
    "content.text += \"• Long Distance Pairs build the binary descriptor.\\n\"\n",
    "content.text += \"• This makes BRISK fast, efficient, and robust for feature matching.\"\n",
    "\n",
    "# 保存PPT\n",
    "pptx_filename = \"BRISK_Short_Long_Pairs.pptx\"\n",
    "prs.save(pptx_filename)\n",
    "\n",
    "# 提供下载链接\n",
    "pptx_filename\n"
   ]
  }
 ],
 "metadata": {
  "kernelspec": {
   "display_name": "opencv",
   "language": "python",
   "name": "python3"
  },
  "language_info": {
   "codemirror_mode": {
    "name": "ipython",
    "version": 3
   },
   "file_extension": ".py",
   "mimetype": "text/x-python",
   "name": "python",
   "nbconvert_exporter": "python",
   "pygments_lexer": "ipython3",
   "version": "3.13.2"
  }
 },
 "nbformat": 4,
 "nbformat_minor": 2
}
